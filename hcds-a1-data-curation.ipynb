{
 "cells": [
  {
   "cell_type": "markdown",
   "metadata": {},
   "source": [
    "## A1 - Data Curation\n",
    "\n",
    "The goal of this assignment is to construct, analyze, and publish a dataset of monthly traffic on English Wikipedia from January 1, 2008 through September 30, 2021."
   ]
  },
  {
   "cell_type": "markdown",
   "metadata": {},
   "source": [
    "Before we begin, we must import any packages needed:"
   ]
  },
  {
   "cell_type": "code",
   "execution_count": 1,
   "metadata": {},
   "outputs": [],
   "source": [
    "import pandas as pd\n",
    "import numpy as np\n",
    "import matplotlib.pyplot as plt\n",
    "import matplotlib.dates as dates\n",
    "import json\n",
    "import requests"
   ]
  },
  {
   "cell_type": "markdown",
   "metadata": {},
   "source": [
    "### Step 1: Data Acquisition\n",
    "\n",
    "Data was collected from two different [Wikimedia REST API](https://www.mediawiki.org/wiki/Wikimedia_REST_API) endpoints ([Legacy Pagecount](https://wikimedia.org/api/rest_v1/#/Legacy%20data/get_metrics_legacy_pagecounts_aggregate__project___access_site___granularity___start___end_) & [Pageview](https://wikimedia.org/api/rest_v1/#/Pageviews_data/get_metrics_pageviews_aggregate_project_access_agent_granularity_start_end)).\n",
    "\n",
    "- The _Pagecount_ API contains desktop & mobile traffic data from December 2007 - July 2016\n",
    "- The _Pageview_ API contains desktop, mobile web, & mobile app traffic data from July 2015 - September 2021\n",
    "\n",
    "__Note:__ there is about 12 months of overlapping data between the APIs\n",
    "\n",
    "The goal of this step is to collect data for all available months and save it in JSON files in the _data_ directory (1 per API call) to set us up for data processing in Step 2.\n",
    "\n",
    "- These JSON filenames will have the following format: `apiname_accesstype_firstmonth-lastmonth.json`"
   ]
  },
  {
   "cell_type": "markdown",
   "metadata": {},
   "source": [
    "Building off the [Sample API code](https://public.paws.wmcloud.org/User:Jtmorgan/data512_a1_example.ipynb) presented here and the API documentation from above, we created the below function to call each API and store the results in a JSON file."
   ]
  },
  {
   "cell_type": "code",
   "execution_count": 2,
   "metadata": {},
   "outputs": [],
   "source": [
    "def api_call(url, filename):\n",
    "    call = requests.get(url, headers=headers)\n",
    "    response = call.json()\n",
    "    \n",
    "    with open(filename, 'w') as f:\n",
    "        json.dump(response, f, indent = 4)\n",
    "        f.close()"
   ]
  },
  {
   "cell_type": "markdown",
   "metadata": {},
   "source": [
    "The endpoint URLs & target filenames are defined below for each of the 5 API calls and are grouped by API.\n",
    "\n",
    "__Note:__ the _Pageview_ API allows us to filter by `agent = user`, this was done to focus on organic user traffic (as opposed to traffic by web crawlers/spiders). This specification is __not__ available for the _Pagecount_ API."
   ]
  },
  {
   "cell_type": "code",
   "execution_count": 3,
   "metadata": {},
   "outputs": [],
   "source": [
    "headers = {\n",
    "    'User-Agent': 'https://github.com/nriggio',\n",
    "    'From': 'nriggi2@uw.edu'\n",
    "}\n",
    "\n",
    "# Legacy Pagecount API\n",
    "pagecount_desktop_url = 'https://wikimedia.org/api/rest_v1/metrics/legacy/pagecounts/aggregate/en.wikipedia.org/desktop-site/monthly/2007120100/2016073100'\n",
    "pagecount_desktop_file = 'pagecounts_desktop-site_200712-202109.json'\n",
    "\n",
    "pagecount_mobile_url = 'https://wikimedia.org/api/rest_v1/metrics/legacy/pagecounts/aggregate/en.wikipedia.org/mobile-site/monthly/2007120100/2016073100'\n",
    "pagecount_mobile_file = 'pagecounts_mobile-site_200712-202109.json'\n",
    "\n",
    "# Pageview API\n",
    "pageview_desktop_url = 'https://wikimedia.org/api/rest_v1/metrics/pageviews/aggregate/en.wikipedia.org/desktop/user/monthly/2015070100/2021100100'\n",
    "pageview_desktop_file = 'pageviews_desktop_200712-202109.json'\n",
    "\n",
    "pageview_mobileweb_url = 'https://wikimedia.org/api/rest_v1/metrics/pageviews/aggregate/en.wikipedia.org/mobile-web/user/monthly/2015070100/2021100100'\n",
    "pageview_mobileweb_file = 'pageviews_mobile-web_200712-202109.json'\n",
    "\n",
    "pageview_mobileapp_url = 'https://wikimedia.org/api/rest_v1/metrics/pageviews/aggregate/en.wikipedia.org/mobile-app/user/monthly/2015070100/2021100100'\n",
    "pageview_mobileapp_file = 'pageviews_mobile-app_200712-202109.json'"
   ]
  },
  {
   "cell_type": "markdown",
   "metadata": {},
   "source": [
    "Now, we call the `api_call` function for each of the 5 traffic data types. The results have been stored under the _data_ folder in this repository."
   ]
  },
  {
   "cell_type": "code",
   "execution_count": 4,
   "metadata": {},
   "outputs": [],
   "source": [
    "api_call(pagecount_desktop_url, pagecount_desktop_file)\n",
    "api_call(pagecount_mobile_url, pagecount_mobile_file)\n",
    "api_call(pageview_desktop_url, pageview_desktop_file)\n",
    "api_call(pageview_mobileweb_url, pageview_mobileweb_file)\n",
    "api_call(pageview_mobileapp_url, pageview_mobileapp_file)"
   ]
  },
  {
   "cell_type": "markdown",
   "metadata": {},
   "source": [
    "### Step 2: Data Processing\n",
    "\n",
    "The goal of this step is to perform a series of processing steps on each of the 5 JSON files to prepare them for further analysis."
   ]
  },
  {
   "cell_type": "markdown",
   "metadata": {},
   "source": [
    "__(i)__ For the data colllected from the _Pageview_ API, the monthly values for mobile web & mobile app are combined below. This results in a new dataframe representing total mobile traffic count from this API for each month."
   ]
  },
  {
   "cell_type": "markdown",
   "metadata": {},
   "source": [
    "- First, we will load & normalize the JSON files in order to work with them in a pandas dataframe. See the example output below."
   ]
  },
  {
   "cell_type": "code",
   "execution_count": 5,
   "metadata": {},
   "outputs": [],
   "source": [
    "pageview_mobileweb_df = pd.read_json('pageviews_mobile-web_200712-202109.json')\n",
    "pageview_mobileweb_df = pd.json_normalize(pageview_mobileweb_df['items'])\n",
    "\n",
    "pageview_mobileapp_df = pd.read_json('pageviews_mobile-app_200712-202109.json')\n",
    "pageview_mobileapp_df = pd.json_normalize(pageview_mobileapp_df['items'])"
   ]
  },
  {
   "cell_type": "code",
   "execution_count": 6,
   "metadata": {},
   "outputs": [
    {
     "data": {
      "text/html": [
       "<div>\n",
       "<style scoped>\n",
       "    .dataframe tbody tr th:only-of-type {\n",
       "        vertical-align: middle;\n",
       "    }\n",
       "\n",
       "    .dataframe tbody tr th {\n",
       "        vertical-align: top;\n",
       "    }\n",
       "\n",
       "    .dataframe thead th {\n",
       "        text-align: right;\n",
       "    }\n",
       "</style>\n",
       "<table border=\"1\" class=\"dataframe\">\n",
       "  <thead>\n",
       "    <tr style=\"text-align: right;\">\n",
       "      <th></th>\n",
       "      <th>project</th>\n",
       "      <th>access</th>\n",
       "      <th>agent</th>\n",
       "      <th>granularity</th>\n",
       "      <th>timestamp</th>\n",
       "      <th>views</th>\n",
       "    </tr>\n",
       "  </thead>\n",
       "  <tbody>\n",
       "    <tr>\n",
       "      <th>0</th>\n",
       "      <td>en.wikipedia</td>\n",
       "      <td>mobile-app</td>\n",
       "      <td>user</td>\n",
       "      <td>monthly</td>\n",
       "      <td>2015070100</td>\n",
       "      <td>109624146</td>\n",
       "    </tr>\n",
       "    <tr>\n",
       "      <th>1</th>\n",
       "      <td>en.wikipedia</td>\n",
       "      <td>mobile-app</td>\n",
       "      <td>user</td>\n",
       "      <td>monthly</td>\n",
       "      <td>2015080100</td>\n",
       "      <td>109669149</td>\n",
       "    </tr>\n",
       "    <tr>\n",
       "      <th>2</th>\n",
       "      <td>en.wikipedia</td>\n",
       "      <td>mobile-app</td>\n",
       "      <td>user</td>\n",
       "      <td>monthly</td>\n",
       "      <td>2015090100</td>\n",
       "      <td>96221684</td>\n",
       "    </tr>\n",
       "    <tr>\n",
       "      <th>3</th>\n",
       "      <td>en.wikipedia</td>\n",
       "      <td>mobile-app</td>\n",
       "      <td>user</td>\n",
       "      <td>monthly</td>\n",
       "      <td>2015100100</td>\n",
       "      <td>94523777</td>\n",
       "    </tr>\n",
       "    <tr>\n",
       "      <th>4</th>\n",
       "      <td>en.wikipedia</td>\n",
       "      <td>mobile-app</td>\n",
       "      <td>user</td>\n",
       "      <td>monthly</td>\n",
       "      <td>2015110100</td>\n",
       "      <td>94353925</td>\n",
       "    </tr>\n",
       "  </tbody>\n",
       "</table>\n",
       "</div>"
      ],
      "text/plain": [
       "        project      access agent granularity   timestamp      views\n",
       "0  en.wikipedia  mobile-app  user     monthly  2015070100  109624146\n",
       "1  en.wikipedia  mobile-app  user     monthly  2015080100  109669149\n",
       "2  en.wikipedia  mobile-app  user     monthly  2015090100   96221684\n",
       "3  en.wikipedia  mobile-app  user     monthly  2015100100   94523777\n",
       "4  en.wikipedia  mobile-app  user     monthly  2015110100   94353925"
      ]
     },
     "execution_count": 6,
     "metadata": {},
     "output_type": "execute_result"
    }
   ],
   "source": [
    "pageview_mobileapp_df.head()"
   ]
  },
  {
   "cell_type": "markdown",
   "metadata": {},
   "source": [
    "- Then, we will drop columns we no longer need and group the remaining by __timestamp__ into a singular `pageview_mobile_df`."
   ]
  },
  {
   "cell_type": "code",
   "execution_count": 7,
   "metadata": {},
   "outputs": [],
   "source": [
    "pageview_mobile_df = pd.concat([pageview_mobileweb_df, pageview_mobileapp_df])\\\n",
    "                        .groupby('timestamp')['views']\\\n",
    "                        .sum().reset_index()"
   ]
  },
  {
   "cell_type": "code",
   "execution_count": 8,
   "metadata": {},
   "outputs": [
    {
     "data": {
      "text/html": [
       "<div>\n",
       "<style scoped>\n",
       "    .dataframe tbody tr th:only-of-type {\n",
       "        vertical-align: middle;\n",
       "    }\n",
       "\n",
       "    .dataframe tbody tr th {\n",
       "        vertical-align: top;\n",
       "    }\n",
       "\n",
       "    .dataframe thead th {\n",
       "        text-align: right;\n",
       "    }\n",
       "</style>\n",
       "<table border=\"1\" class=\"dataframe\">\n",
       "  <thead>\n",
       "    <tr style=\"text-align: right;\">\n",
       "      <th></th>\n",
       "      <th>timestamp</th>\n",
       "      <th>views</th>\n",
       "    </tr>\n",
       "  </thead>\n",
       "  <tbody>\n",
       "    <tr>\n",
       "      <th>0</th>\n",
       "      <td>2015070100</td>\n",
       "      <td>3288755294</td>\n",
       "    </tr>\n",
       "    <tr>\n",
       "      <th>1</th>\n",
       "      <td>2015080100</td>\n",
       "      <td>3302333038</td>\n",
       "    </tr>\n",
       "    <tr>\n",
       "      <th>2</th>\n",
       "      <td>2015090100</td>\n",
       "      <td>3170203333</td>\n",
       "    </tr>\n",
       "    <tr>\n",
       "      <th>3</th>\n",
       "      <td>2015100100</td>\n",
       "      <td>3268499132</td>\n",
       "    </tr>\n",
       "    <tr>\n",
       "      <th>4</th>\n",
       "      <td>2015110100</td>\n",
       "      <td>3236601070</td>\n",
       "    </tr>\n",
       "  </tbody>\n",
       "</table>\n",
       "</div>"
      ],
      "text/plain": [
       "    timestamp       views\n",
       "0  2015070100  3288755294\n",
       "1  2015080100  3302333038\n",
       "2  2015090100  3170203333\n",
       "3  2015100100  3268499132\n",
       "4  2015110100  3236601070"
      ]
     },
     "execution_count": 8,
     "metadata": {},
     "output_type": "execute_result"
    }
   ],
   "source": [
    "pageview_mobile_df.head()"
   ]
  },
  {
   "cell_type": "markdown",
   "metadata": {},
   "source": [
    "__(ii)__ For the second preprocessing step, we will break out the timestamp value (YYYYMMDDHH) into separate year (YYYY) & month (MM) columns and discard the remaining day & hour values."
   ]
  },
  {
   "cell_type": "markdown",
   "metadata": {},
   "source": [
    "- First, we will complete this step for the `pageview_mobile_df` since we have already been working with that data."
   ]
  },
  {
   "cell_type": "code",
   "execution_count": 9,
   "metadata": {},
   "outputs": [],
   "source": [
    "pageview_mobile_df['year'] = pageview_mobile_df['timestamp'].str[:4]\n",
    "pageview_mobile_df['month'] = pageview_mobile_df['timestamp'].str[4:6]\n",
    "pageview_mobile_df = pageview_mobile_df.drop(columns = ['timestamp']) "
   ]
  },
  {
   "cell_type": "code",
   "execution_count": 10,
   "metadata": {},
   "outputs": [
    {
     "data": {
      "text/html": [
       "<div>\n",
       "<style scoped>\n",
       "    .dataframe tbody tr th:only-of-type {\n",
       "        vertical-align: middle;\n",
       "    }\n",
       "\n",
       "    .dataframe tbody tr th {\n",
       "        vertical-align: top;\n",
       "    }\n",
       "\n",
       "    .dataframe thead th {\n",
       "        text-align: right;\n",
       "    }\n",
       "</style>\n",
       "<table border=\"1\" class=\"dataframe\">\n",
       "  <thead>\n",
       "    <tr style=\"text-align: right;\">\n",
       "      <th></th>\n",
       "      <th>views</th>\n",
       "      <th>year</th>\n",
       "      <th>month</th>\n",
       "    </tr>\n",
       "  </thead>\n",
       "  <tbody>\n",
       "    <tr>\n",
       "      <th>0</th>\n",
       "      <td>3288755294</td>\n",
       "      <td>2015</td>\n",
       "      <td>07</td>\n",
       "    </tr>\n",
       "    <tr>\n",
       "      <th>1</th>\n",
       "      <td>3302333038</td>\n",
       "      <td>2015</td>\n",
       "      <td>08</td>\n",
       "    </tr>\n",
       "    <tr>\n",
       "      <th>2</th>\n",
       "      <td>3170203333</td>\n",
       "      <td>2015</td>\n",
       "      <td>09</td>\n",
       "    </tr>\n",
       "    <tr>\n",
       "      <th>3</th>\n",
       "      <td>3268499132</td>\n",
       "      <td>2015</td>\n",
       "      <td>10</td>\n",
       "    </tr>\n",
       "    <tr>\n",
       "      <th>4</th>\n",
       "      <td>3236601070</td>\n",
       "      <td>2015</td>\n",
       "      <td>11</td>\n",
       "    </tr>\n",
       "  </tbody>\n",
       "</table>\n",
       "</div>"
      ],
      "text/plain": [
       "        views  year month\n",
       "0  3288755294  2015    07\n",
       "1  3302333038  2015    08\n",
       "2  3170203333  2015    09\n",
       "3  3268499132  2015    10\n",
       "4  3236601070  2015    11"
      ]
     },
     "execution_count": 10,
     "metadata": {},
     "output_type": "execute_result"
    }
   ],
   "source": [
    "pageview_mobile_df.head()"
   ]
  },
  {
   "cell_type": "markdown",
   "metadata": {},
   "source": [
    "- While we are doing this, we will also rename the `views` column in each dataframe based on __view type__."
   ]
  },
  {
   "cell_type": "code",
   "execution_count": 11,
   "metadata": {},
   "outputs": [],
   "source": [
    "pageview_mobile_df.rename(columns={'views':'pageview_mobile_views'}, inplace = True)"
   ]
  },
  {
   "cell_type": "code",
   "execution_count": 12,
   "metadata": {},
   "outputs": [
    {
     "data": {
      "text/html": [
       "<div>\n",
       "<style scoped>\n",
       "    .dataframe tbody tr th:only-of-type {\n",
       "        vertical-align: middle;\n",
       "    }\n",
       "\n",
       "    .dataframe tbody tr th {\n",
       "        vertical-align: top;\n",
       "    }\n",
       "\n",
       "    .dataframe thead th {\n",
       "        text-align: right;\n",
       "    }\n",
       "</style>\n",
       "<table border=\"1\" class=\"dataframe\">\n",
       "  <thead>\n",
       "    <tr style=\"text-align: right;\">\n",
       "      <th></th>\n",
       "      <th>pageview_mobile_views</th>\n",
       "      <th>year</th>\n",
       "      <th>month</th>\n",
       "    </tr>\n",
       "  </thead>\n",
       "  <tbody>\n",
       "    <tr>\n",
       "      <th>0</th>\n",
       "      <td>3288755294</td>\n",
       "      <td>2015</td>\n",
       "      <td>07</td>\n",
       "    </tr>\n",
       "    <tr>\n",
       "      <th>1</th>\n",
       "      <td>3302333038</td>\n",
       "      <td>2015</td>\n",
       "      <td>08</td>\n",
       "    </tr>\n",
       "    <tr>\n",
       "      <th>2</th>\n",
       "      <td>3170203333</td>\n",
       "      <td>2015</td>\n",
       "      <td>09</td>\n",
       "    </tr>\n",
       "    <tr>\n",
       "      <th>3</th>\n",
       "      <td>3268499132</td>\n",
       "      <td>2015</td>\n",
       "      <td>10</td>\n",
       "    </tr>\n",
       "    <tr>\n",
       "      <th>4</th>\n",
       "      <td>3236601070</td>\n",
       "      <td>2015</td>\n",
       "      <td>11</td>\n",
       "    </tr>\n",
       "  </tbody>\n",
       "</table>\n",
       "</div>"
      ],
      "text/plain": [
       "   pageview_mobile_views  year month\n",
       "0             3288755294  2015    07\n",
       "1             3302333038  2015    08\n",
       "2             3170203333  2015    09\n",
       "3             3268499132  2015    10\n",
       "4             3236601070  2015    11"
      ]
     },
     "execution_count": 12,
     "metadata": {},
     "output_type": "execute_result"
    }
   ],
   "source": [
    "pageview_mobile_df.head()"
   ]
  },
  {
   "cell_type": "markdown",
   "metadata": {},
   "source": [
    "- Now we will repeat this process for the remaining 3 JSON files (Pageview Desktop, Pagecount Desktop, & Pagecount Mobile)."
   ]
  },
  {
   "cell_type": "markdown",
   "metadata": {},
   "source": [
    "__pageview_desktop_views__"
   ]
  },
  {
   "cell_type": "code",
   "execution_count": 13,
   "metadata": {},
   "outputs": [],
   "source": [
    "pageview_desktop_df = pd.read_json('pageviews_desktop_200712-202109.json')\n",
    "pageview_desktop_df = pd.json_normalize(pageview_desktop_df['items'])\n",
    "\n",
    "pageview_desktop_df = pageview_desktop_df.drop(columns = ['project', 'access', 'agent', 'granularity'])\n",
    "\n",
    "pageview_desktop_df['year'] = pageview_desktop_df['timestamp'].str[:4]\n",
    "pageview_desktop_df['month'] = pageview_desktop_df['timestamp'].str[4:6]\n",
    "pageview_desktop_df = pageview_desktop_df.drop(columns = ['timestamp'])\n",
    "\n",
    "pageview_desktop_df.rename(columns={'views':'pageview_desktop_views'}, inplace = True)"
   ]
  },
  {
   "cell_type": "code",
   "execution_count": 14,
   "metadata": {},
   "outputs": [
    {
     "data": {
      "text/html": [
       "<div>\n",
       "<style scoped>\n",
       "    .dataframe tbody tr th:only-of-type {\n",
       "        vertical-align: middle;\n",
       "    }\n",
       "\n",
       "    .dataframe tbody tr th {\n",
       "        vertical-align: top;\n",
       "    }\n",
       "\n",
       "    .dataframe thead th {\n",
       "        text-align: right;\n",
       "    }\n",
       "</style>\n",
       "<table border=\"1\" class=\"dataframe\">\n",
       "  <thead>\n",
       "    <tr style=\"text-align: right;\">\n",
       "      <th></th>\n",
       "      <th>pageview_desktop_views</th>\n",
       "      <th>year</th>\n",
       "      <th>month</th>\n",
       "    </tr>\n",
       "  </thead>\n",
       "  <tbody>\n",
       "    <tr>\n",
       "      <th>0</th>\n",
       "      <td>4376666686</td>\n",
       "      <td>2015</td>\n",
       "      <td>07</td>\n",
       "    </tr>\n",
       "    <tr>\n",
       "      <th>1</th>\n",
       "      <td>4332482183</td>\n",
       "      <td>2015</td>\n",
       "      <td>08</td>\n",
       "    </tr>\n",
       "    <tr>\n",
       "      <th>2</th>\n",
       "      <td>4485491704</td>\n",
       "      <td>2015</td>\n",
       "      <td>09</td>\n",
       "    </tr>\n",
       "    <tr>\n",
       "      <th>3</th>\n",
       "      <td>4477532755</td>\n",
       "      <td>2015</td>\n",
       "      <td>10</td>\n",
       "    </tr>\n",
       "    <tr>\n",
       "      <th>4</th>\n",
       "      <td>4287720220</td>\n",
       "      <td>2015</td>\n",
       "      <td>11</td>\n",
       "    </tr>\n",
       "  </tbody>\n",
       "</table>\n",
       "</div>"
      ],
      "text/plain": [
       "   pageview_desktop_views  year month\n",
       "0              4376666686  2015    07\n",
       "1              4332482183  2015    08\n",
       "2              4485491704  2015    09\n",
       "3              4477532755  2015    10\n",
       "4              4287720220  2015    11"
      ]
     },
     "execution_count": 14,
     "metadata": {},
     "output_type": "execute_result"
    }
   ],
   "source": [
    "pageview_desktop_df.head()"
   ]
  },
  {
   "cell_type": "markdown",
   "metadata": {},
   "source": [
    "__pagecount_desktop_views__"
   ]
  },
  {
   "cell_type": "code",
   "execution_count": 15,
   "metadata": {},
   "outputs": [],
   "source": [
    "pagecount_desktop_df = pd.read_json('pagecounts_desktop-site_200712-202109.json')\n",
    "pagecount_desktop_df = pd.json_normalize(pagecount_desktop_df['items'])\n",
    "\n",
    "pagecount_desktop_df = pagecount_desktop_df.drop(columns = ['project', 'access-site', 'granularity'])\n",
    "\n",
    "pagecount_desktop_df['year'] = pagecount_desktop_df['timestamp'].str[:4]\n",
    "pagecount_desktop_df['month'] = pagecount_desktop_df['timestamp'].str[4:6]\n",
    "pagecount_desktop_df = pagecount_desktop_df.drop(columns = ['timestamp'])\n",
    "\n",
    "pagecount_desktop_df.rename(columns={'count':'pagecount_desktop_views'}, inplace = True)"
   ]
  },
  {
   "cell_type": "code",
   "execution_count": 16,
   "metadata": {},
   "outputs": [
    {
     "data": {
      "text/html": [
       "<div>\n",
       "<style scoped>\n",
       "    .dataframe tbody tr th:only-of-type {\n",
       "        vertical-align: middle;\n",
       "    }\n",
       "\n",
       "    .dataframe tbody tr th {\n",
       "        vertical-align: top;\n",
       "    }\n",
       "\n",
       "    .dataframe thead th {\n",
       "        text-align: right;\n",
       "    }\n",
       "</style>\n",
       "<table border=\"1\" class=\"dataframe\">\n",
       "  <thead>\n",
       "    <tr style=\"text-align: right;\">\n",
       "      <th></th>\n",
       "      <th>pagecount_desktop_views</th>\n",
       "      <th>year</th>\n",
       "      <th>month</th>\n",
       "    </tr>\n",
       "  </thead>\n",
       "  <tbody>\n",
       "    <tr>\n",
       "      <th>0</th>\n",
       "      <td>2998331524</td>\n",
       "      <td>2007</td>\n",
       "      <td>12</td>\n",
       "    </tr>\n",
       "    <tr>\n",
       "      <th>1</th>\n",
       "      <td>4930902570</td>\n",
       "      <td>2008</td>\n",
       "      <td>01</td>\n",
       "    </tr>\n",
       "    <tr>\n",
       "      <th>2</th>\n",
       "      <td>4818393763</td>\n",
       "      <td>2008</td>\n",
       "      <td>02</td>\n",
       "    </tr>\n",
       "    <tr>\n",
       "      <th>3</th>\n",
       "      <td>4955405809</td>\n",
       "      <td>2008</td>\n",
       "      <td>03</td>\n",
       "    </tr>\n",
       "    <tr>\n",
       "      <th>4</th>\n",
       "      <td>5159162183</td>\n",
       "      <td>2008</td>\n",
       "      <td>04</td>\n",
       "    </tr>\n",
       "  </tbody>\n",
       "</table>\n",
       "</div>"
      ],
      "text/plain": [
       "   pagecount_desktop_views  year month\n",
       "0               2998331524  2007    12\n",
       "1               4930902570  2008    01\n",
       "2               4818393763  2008    02\n",
       "3               4955405809  2008    03\n",
       "4               5159162183  2008    04"
      ]
     },
     "execution_count": 16,
     "metadata": {},
     "output_type": "execute_result"
    }
   ],
   "source": [
    "pagecount_desktop_df.head()"
   ]
  },
  {
   "cell_type": "markdown",
   "metadata": {},
   "source": [
    "__pagecount_mobile_views__"
   ]
  },
  {
   "cell_type": "code",
   "execution_count": 17,
   "metadata": {},
   "outputs": [],
   "source": [
    "pagecount_mobile_df = pd.read_json('pagecounts_mobile-site_200712-202109.json')\n",
    "pagecount_mobile_df = pd.json_normalize(pagecount_mobile_df['items'])\n",
    "\n",
    "pagecount_mobile_df = pagecount_mobile_df.drop(columns = ['project', 'access-site', 'granularity'])\n",
    "\n",
    "pagecount_mobile_df['year'] = pagecount_mobile_df['timestamp'].str[:4]\n",
    "pagecount_mobile_df['month'] = pagecount_mobile_df['timestamp'].str[4:6]\n",
    "pagecount_mobile_df = pagecount_mobile_df.drop(columns = ['timestamp'])\n",
    "\n",
    "pagecount_mobile_df.rename(columns={'count':'pagecount_mobile_views'}, inplace = True)"
   ]
  },
  {
   "cell_type": "code",
   "execution_count": 18,
   "metadata": {},
   "outputs": [
    {
     "data": {
      "text/html": [
       "<div>\n",
       "<style scoped>\n",
       "    .dataframe tbody tr th:only-of-type {\n",
       "        vertical-align: middle;\n",
       "    }\n",
       "\n",
       "    .dataframe tbody tr th {\n",
       "        vertical-align: top;\n",
       "    }\n",
       "\n",
       "    .dataframe thead th {\n",
       "        text-align: right;\n",
       "    }\n",
       "</style>\n",
       "<table border=\"1\" class=\"dataframe\">\n",
       "  <thead>\n",
       "    <tr style=\"text-align: right;\">\n",
       "      <th></th>\n",
       "      <th>pagecount_mobile_views</th>\n",
       "      <th>year</th>\n",
       "      <th>month</th>\n",
       "    </tr>\n",
       "  </thead>\n",
       "  <tbody>\n",
       "    <tr>\n",
       "      <th>0</th>\n",
       "      <td>3091546685</td>\n",
       "      <td>2014</td>\n",
       "      <td>10</td>\n",
       "    </tr>\n",
       "    <tr>\n",
       "      <th>1</th>\n",
       "      <td>3027489668</td>\n",
       "      <td>2014</td>\n",
       "      <td>11</td>\n",
       "    </tr>\n",
       "    <tr>\n",
       "      <th>2</th>\n",
       "      <td>3278950021</td>\n",
       "      <td>2014</td>\n",
       "      <td>12</td>\n",
       "    </tr>\n",
       "    <tr>\n",
       "      <th>3</th>\n",
       "      <td>3485302091</td>\n",
       "      <td>2015</td>\n",
       "      <td>01</td>\n",
       "    </tr>\n",
       "    <tr>\n",
       "      <th>4</th>\n",
       "      <td>3091534479</td>\n",
       "      <td>2015</td>\n",
       "      <td>02</td>\n",
       "    </tr>\n",
       "  </tbody>\n",
       "</table>\n",
       "</div>"
      ],
      "text/plain": [
       "   pagecount_mobile_views  year month\n",
       "0              3091546685  2014    10\n",
       "1              3027489668  2014    11\n",
       "2              3278950021  2014    12\n",
       "3              3485302091  2015    01\n",
       "4              3091534479  2015    02"
      ]
     },
     "execution_count": 18,
     "metadata": {},
     "output_type": "execute_result"
    }
   ],
   "source": [
    "pagecount_mobile_df.head()"
   ]
  },
  {
   "cell_type": "markdown",
   "metadata": {},
   "source": [
    "__(iii)__ For the final preprocessing step, we will combine all data by year & month into a single dataframe. For months with no views of a given type, we will replace any NaN values with 0. Finally, we will write this dataframe to a single CSV (`en-wikipedia_traffic_200712-202109.csv`)."
   ]
  },
  {
   "cell_type": "markdown",
   "metadata": {},
   "source": [
    "- Combine the 4 dataframes with `pd.merge()`"
   ]
  },
  {
   "cell_type": "code",
   "execution_count": 19,
   "metadata": {},
   "outputs": [],
   "source": [
    "df_merge_1 = pd.merge(pageview_mobile_df, pageview_desktop_df,  on = ['year', 'month'], how = 'outer')\n",
    "df_merge_2 = pd.merge(df_merge_1, pagecount_mobile_df,  on = ['year', 'month'], how = 'outer')\n",
    "df_merge_3 = pd.merge(df_merge_2, pagecount_desktop_df,  on = ['year', 'month'], how = 'outer')"
   ]
  },
  {
   "cell_type": "code",
   "execution_count": 20,
   "metadata": {},
   "outputs": [
    {
     "data": {
      "text/html": [
       "<div>\n",
       "<style scoped>\n",
       "    .dataframe tbody tr th:only-of-type {\n",
       "        vertical-align: middle;\n",
       "    }\n",
       "\n",
       "    .dataframe tbody tr th {\n",
       "        vertical-align: top;\n",
       "    }\n",
       "\n",
       "    .dataframe thead th {\n",
       "        text-align: right;\n",
       "    }\n",
       "</style>\n",
       "<table border=\"1\" class=\"dataframe\">\n",
       "  <thead>\n",
       "    <tr style=\"text-align: right;\">\n",
       "      <th></th>\n",
       "      <th>pageview_mobile_views</th>\n",
       "      <th>year</th>\n",
       "      <th>month</th>\n",
       "      <th>pageview_desktop_views</th>\n",
       "      <th>pagecount_mobile_views</th>\n",
       "      <th>pagecount_desktop_views</th>\n",
       "    </tr>\n",
       "  </thead>\n",
       "  <tbody>\n",
       "    <tr>\n",
       "      <th>0</th>\n",
       "      <td>3288755294</td>\n",
       "      <td>2015</td>\n",
       "      <td>07</td>\n",
       "      <td>4376666686</td>\n",
       "      <td>3254472695</td>\n",
       "      <td>5229226022</td>\n",
       "    </tr>\n",
       "    <tr>\n",
       "      <th>1</th>\n",
       "      <td>3302333038</td>\n",
       "      <td>2015</td>\n",
       "      <td>08</td>\n",
       "      <td>4332482183</td>\n",
       "      <td>3268487582</td>\n",
       "      <td>5035534449</td>\n",
       "    </tr>\n",
       "    <tr>\n",
       "      <th>2</th>\n",
       "      <td>3170203333</td>\n",
       "      <td>2015</td>\n",
       "      <td>09</td>\n",
       "      <td>4485491704</td>\n",
       "      <td>3172429827</td>\n",
       "      <td>5409631355</td>\n",
       "    </tr>\n",
       "    <tr>\n",
       "      <th>3</th>\n",
       "      <td>3268499132</td>\n",
       "      <td>2015</td>\n",
       "      <td>10</td>\n",
       "      <td>4477532755</td>\n",
       "      <td>3246082505</td>\n",
       "      <td>5535704471</td>\n",
       "    </tr>\n",
       "    <tr>\n",
       "      <th>4</th>\n",
       "      <td>3236601070</td>\n",
       "      <td>2015</td>\n",
       "      <td>11</td>\n",
       "      <td>4287720220</td>\n",
       "      <td>3218234512</td>\n",
       "      <td>5296956116</td>\n",
       "    </tr>\n",
       "  </tbody>\n",
       "</table>\n",
       "</div>"
      ],
      "text/plain": [
       "   pageview_mobile_views  year month  pageview_desktop_views  \\\n",
       "0             3288755294  2015    07              4376666686   \n",
       "1             3302333038  2015    08              4332482183   \n",
       "2             3170203333  2015    09              4485491704   \n",
       "3             3268499132  2015    10              4477532755   \n",
       "4             3236601070  2015    11              4287720220   \n",
       "\n",
       "   pagecount_mobile_views  pagecount_desktop_views  \n",
       "0              3254472695               5229226022  \n",
       "1              3268487582               5035534449  \n",
       "2              3172429827               5409631355  \n",
       "3              3246082505               5535704471  \n",
       "4              3218234512               5296956116  "
      ]
     },
     "execution_count": 20,
     "metadata": {},
     "output_type": "execute_result"
    }
   ],
   "source": [
    "pd.set_option('display.float_format', '{:.0f}'.format)\n",
    "\n",
    "df_merge_3.head()"
   ]
  },
  {
   "cell_type": "markdown",
   "metadata": {},
   "source": [
    "- Replace NaN with 0"
   ]
  },
  {
   "cell_type": "code",
   "execution_count": 21,
   "metadata": {},
   "outputs": [],
   "source": [
    "df_final = df_merge_3.fillna(0)"
   ]
  },
  {
   "cell_type": "code",
   "execution_count": 22,
   "metadata": {},
   "outputs": [
    {
     "data": {
      "text/html": [
       "<div>\n",
       "<style scoped>\n",
       "    .dataframe tbody tr th:only-of-type {\n",
       "        vertical-align: middle;\n",
       "    }\n",
       "\n",
       "    .dataframe tbody tr th {\n",
       "        vertical-align: top;\n",
       "    }\n",
       "\n",
       "    .dataframe thead th {\n",
       "        text-align: right;\n",
       "    }\n",
       "</style>\n",
       "<table border=\"1\" class=\"dataframe\">\n",
       "  <thead>\n",
       "    <tr style=\"text-align: right;\">\n",
       "      <th></th>\n",
       "      <th>pageview_mobile_views</th>\n",
       "      <th>year</th>\n",
       "      <th>month</th>\n",
       "      <th>pageview_desktop_views</th>\n",
       "      <th>pagecount_mobile_views</th>\n",
       "      <th>pagecount_desktop_views</th>\n",
       "    </tr>\n",
       "  </thead>\n",
       "  <tbody>\n",
       "    <tr>\n",
       "      <th>0</th>\n",
       "      <td>3288755294</td>\n",
       "      <td>2015</td>\n",
       "      <td>07</td>\n",
       "      <td>4376666686</td>\n",
       "      <td>3254472695</td>\n",
       "      <td>5229226022</td>\n",
       "    </tr>\n",
       "    <tr>\n",
       "      <th>1</th>\n",
       "      <td>3302333038</td>\n",
       "      <td>2015</td>\n",
       "      <td>08</td>\n",
       "      <td>4332482183</td>\n",
       "      <td>3268487582</td>\n",
       "      <td>5035534449</td>\n",
       "    </tr>\n",
       "    <tr>\n",
       "      <th>2</th>\n",
       "      <td>3170203333</td>\n",
       "      <td>2015</td>\n",
       "      <td>09</td>\n",
       "      <td>4485491704</td>\n",
       "      <td>3172429827</td>\n",
       "      <td>5409631355</td>\n",
       "    </tr>\n",
       "    <tr>\n",
       "      <th>3</th>\n",
       "      <td>3268499132</td>\n",
       "      <td>2015</td>\n",
       "      <td>10</td>\n",
       "      <td>4477532755</td>\n",
       "      <td>3246082505</td>\n",
       "      <td>5535704471</td>\n",
       "    </tr>\n",
       "    <tr>\n",
       "      <th>4</th>\n",
       "      <td>3236601070</td>\n",
       "      <td>2015</td>\n",
       "      <td>11</td>\n",
       "      <td>4287720220</td>\n",
       "      <td>3218234512</td>\n",
       "      <td>5296956116</td>\n",
       "    </tr>\n",
       "  </tbody>\n",
       "</table>\n",
       "</div>"
      ],
      "text/plain": [
       "   pageview_mobile_views  year month  pageview_desktop_views  \\\n",
       "0             3288755294  2015    07              4376666686   \n",
       "1             3302333038  2015    08              4332482183   \n",
       "2             3170203333  2015    09              4485491704   \n",
       "3             3268499132  2015    10              4477532755   \n",
       "4             3236601070  2015    11              4287720220   \n",
       "\n",
       "   pagecount_mobile_views  pagecount_desktop_views  \n",
       "0              3254472695               5229226022  \n",
       "1              3268487582               5035534449  \n",
       "2              3172429827               5409631355  \n",
       "3              3246082505               5535704471  \n",
       "4              3218234512               5296956116  "
      ]
     },
     "execution_count": 22,
     "metadata": {},
     "output_type": "execute_result"
    }
   ],
   "source": [
    "df_final.head()"
   ]
  },
  {
   "cell_type": "markdown",
   "metadata": {},
   "source": [
    "- Create _pagecount_all_views_ & _pageview_all_views_ columns"
   ]
  },
  {
   "cell_type": "code",
   "execution_count": 23,
   "metadata": {},
   "outputs": [],
   "source": [
    "df_final['pagecount_all_views'] = df_final['pagecount_mobile_views'] + df_final['pagecount_desktop_views']\n",
    "df_final['pageview_all_views'] = df_final['pageview_mobile_views'] + df_final['pageview_desktop_views']"
   ]
  },
  {
   "cell_type": "code",
   "execution_count": 24,
   "metadata": {},
   "outputs": [
    {
     "data": {
      "text/html": [
       "<div>\n",
       "<style scoped>\n",
       "    .dataframe tbody tr th:only-of-type {\n",
       "        vertical-align: middle;\n",
       "    }\n",
       "\n",
       "    .dataframe tbody tr th {\n",
       "        vertical-align: top;\n",
       "    }\n",
       "\n",
       "    .dataframe thead th {\n",
       "        text-align: right;\n",
       "    }\n",
       "</style>\n",
       "<table border=\"1\" class=\"dataframe\">\n",
       "  <thead>\n",
       "    <tr style=\"text-align: right;\">\n",
       "      <th></th>\n",
       "      <th>pageview_mobile_views</th>\n",
       "      <th>year</th>\n",
       "      <th>month</th>\n",
       "      <th>pageview_desktop_views</th>\n",
       "      <th>pagecount_mobile_views</th>\n",
       "      <th>pagecount_desktop_views</th>\n",
       "      <th>pagecount_all_views</th>\n",
       "      <th>pageview_all_views</th>\n",
       "    </tr>\n",
       "  </thead>\n",
       "  <tbody>\n",
       "    <tr>\n",
       "      <th>0</th>\n",
       "      <td>3288755294</td>\n",
       "      <td>2015</td>\n",
       "      <td>07</td>\n",
       "      <td>4376666686</td>\n",
       "      <td>3254472695</td>\n",
       "      <td>5229226022</td>\n",
       "      <td>8483698717</td>\n",
       "      <td>7665421980</td>\n",
       "    </tr>\n",
       "    <tr>\n",
       "      <th>1</th>\n",
       "      <td>3302333038</td>\n",
       "      <td>2015</td>\n",
       "      <td>08</td>\n",
       "      <td>4332482183</td>\n",
       "      <td>3268487582</td>\n",
       "      <td>5035534449</td>\n",
       "      <td>8304022031</td>\n",
       "      <td>7634815221</td>\n",
       "    </tr>\n",
       "    <tr>\n",
       "      <th>2</th>\n",
       "      <td>3170203333</td>\n",
       "      <td>2015</td>\n",
       "      <td>09</td>\n",
       "      <td>4485491704</td>\n",
       "      <td>3172429827</td>\n",
       "      <td>5409631355</td>\n",
       "      <td>8582061182</td>\n",
       "      <td>7655695037</td>\n",
       "    </tr>\n",
       "    <tr>\n",
       "      <th>3</th>\n",
       "      <td>3268499132</td>\n",
       "      <td>2015</td>\n",
       "      <td>10</td>\n",
       "      <td>4477532755</td>\n",
       "      <td>3246082505</td>\n",
       "      <td>5535704471</td>\n",
       "      <td>8781786976</td>\n",
       "      <td>7746031887</td>\n",
       "    </tr>\n",
       "    <tr>\n",
       "      <th>4</th>\n",
       "      <td>3236601070</td>\n",
       "      <td>2015</td>\n",
       "      <td>11</td>\n",
       "      <td>4287720220</td>\n",
       "      <td>3218234512</td>\n",
       "      <td>5296956116</td>\n",
       "      <td>8515190628</td>\n",
       "      <td>7524321290</td>\n",
       "    </tr>\n",
       "  </tbody>\n",
       "</table>\n",
       "</div>"
      ],
      "text/plain": [
       "   pageview_mobile_views  year month  pageview_desktop_views  \\\n",
       "0             3288755294  2015    07              4376666686   \n",
       "1             3302333038  2015    08              4332482183   \n",
       "2             3170203333  2015    09              4485491704   \n",
       "3             3268499132  2015    10              4477532755   \n",
       "4             3236601070  2015    11              4287720220   \n",
       "\n",
       "   pagecount_mobile_views  pagecount_desktop_views  pagecount_all_views  \\\n",
       "0              3254472695               5229226022           8483698717   \n",
       "1              3268487582               5035534449           8304022031   \n",
       "2              3172429827               5409631355           8582061182   \n",
       "3              3246082505               5535704471           8781786976   \n",
       "4              3218234512               5296956116           8515190628   \n",
       "\n",
       "   pageview_all_views  \n",
       "0          7665421980  \n",
       "1          7634815221  \n",
       "2          7655695037  \n",
       "3          7746031887  \n",
       "4          7524321290  "
      ]
     },
     "execution_count": 24,
     "metadata": {},
     "output_type": "execute_result"
    }
   ],
   "source": [
    "df_final.head()"
   ]
  },
  {
   "cell_type": "markdown",
   "metadata": {},
   "source": [
    "- Reorder columns & sort by (year, month) ascending"
   ]
  },
  {
   "cell_type": "code",
   "execution_count": 25,
   "metadata": {},
   "outputs": [],
   "source": [
    "df_final = df_final[['year', 'month', \n",
    "                     'pagecount_all_views', 'pagecount_desktop_views', 'pagecount_mobile_views', \n",
    "                     'pageview_all_views', 'pageview_desktop_views', 'pageview_mobile_views']]\n",
    "df_final = df_final.sort_values(['year', 'month'], ascending = [True, True]).reset_index(drop = True)"
   ]
  },
  {
   "cell_type": "code",
   "execution_count": 26,
   "metadata": {},
   "outputs": [
    {
     "data": {
      "text/html": [
       "<div>\n",
       "<style scoped>\n",
       "    .dataframe tbody tr th:only-of-type {\n",
       "        vertical-align: middle;\n",
       "    }\n",
       "\n",
       "    .dataframe tbody tr th {\n",
       "        vertical-align: top;\n",
       "    }\n",
       "\n",
       "    .dataframe thead th {\n",
       "        text-align: right;\n",
       "    }\n",
       "</style>\n",
       "<table border=\"1\" class=\"dataframe\">\n",
       "  <thead>\n",
       "    <tr style=\"text-align: right;\">\n",
       "      <th></th>\n",
       "      <th>year</th>\n",
       "      <th>month</th>\n",
       "      <th>pagecount_all_views</th>\n",
       "      <th>pagecount_desktop_views</th>\n",
       "      <th>pagecount_mobile_views</th>\n",
       "      <th>pageview_all_views</th>\n",
       "      <th>pageview_desktop_views</th>\n",
       "      <th>pageview_mobile_views</th>\n",
       "    </tr>\n",
       "  </thead>\n",
       "  <tbody>\n",
       "    <tr>\n",
       "      <th>0</th>\n",
       "      <td>2007</td>\n",
       "      <td>12</td>\n",
       "      <td>2998331524</td>\n",
       "      <td>2998331524</td>\n",
       "      <td>0</td>\n",
       "      <td>0</td>\n",
       "      <td>0</td>\n",
       "      <td>0</td>\n",
       "    </tr>\n",
       "    <tr>\n",
       "      <th>1</th>\n",
       "      <td>2008</td>\n",
       "      <td>01</td>\n",
       "      <td>4930902570</td>\n",
       "      <td>4930902570</td>\n",
       "      <td>0</td>\n",
       "      <td>0</td>\n",
       "      <td>0</td>\n",
       "      <td>0</td>\n",
       "    </tr>\n",
       "    <tr>\n",
       "      <th>2</th>\n",
       "      <td>2008</td>\n",
       "      <td>02</td>\n",
       "      <td>4818393763</td>\n",
       "      <td>4818393763</td>\n",
       "      <td>0</td>\n",
       "      <td>0</td>\n",
       "      <td>0</td>\n",
       "      <td>0</td>\n",
       "    </tr>\n",
       "    <tr>\n",
       "      <th>3</th>\n",
       "      <td>2008</td>\n",
       "      <td>03</td>\n",
       "      <td>4955405809</td>\n",
       "      <td>4955405809</td>\n",
       "      <td>0</td>\n",
       "      <td>0</td>\n",
       "      <td>0</td>\n",
       "      <td>0</td>\n",
       "    </tr>\n",
       "    <tr>\n",
       "      <th>4</th>\n",
       "      <td>2008</td>\n",
       "      <td>04</td>\n",
       "      <td>5159162183</td>\n",
       "      <td>5159162183</td>\n",
       "      <td>0</td>\n",
       "      <td>0</td>\n",
       "      <td>0</td>\n",
       "      <td>0</td>\n",
       "    </tr>\n",
       "  </tbody>\n",
       "</table>\n",
       "</div>"
      ],
      "text/plain": [
       "   year month  pagecount_all_views  pagecount_desktop_views  \\\n",
       "0  2007    12           2998331524               2998331524   \n",
       "1  2008    01           4930902570               4930902570   \n",
       "2  2008    02           4818393763               4818393763   \n",
       "3  2008    03           4955405809               4955405809   \n",
       "4  2008    04           5159162183               5159162183   \n",
       "\n",
       "   pagecount_mobile_views  pageview_all_views  pageview_desktop_views  \\\n",
       "0                       0                   0                       0   \n",
       "1                       0                   0                       0   \n",
       "2                       0                   0                       0   \n",
       "3                       0                   0                       0   \n",
       "4                       0                   0                       0   \n",
       "\n",
       "   pageview_mobile_views  \n",
       "0                      0  \n",
       "1                      0  \n",
       "2                      0  \n",
       "3                      0  \n",
       "4                      0  "
      ]
     },
     "execution_count": 26,
     "metadata": {},
     "output_type": "execute_result"
    }
   ],
   "source": [
    "df_final.head()"
   ]
  },
  {
   "cell_type": "markdown",
   "metadata": {},
   "source": [
    "- Write the processed dataframe to a CSV (`en-wikipedia_traffic_200712-202109.csv`)"
   ]
  },
  {
   "cell_type": "code",
   "execution_count": 27,
   "metadata": {},
   "outputs": [],
   "source": [
    "final_file = 'en-wikipedia_traffic_200712-202109.csv'\n",
    "df_final.to_csv(final_file, index = False)"
   ]
  },
  {
   "cell_type": "markdown",
   "metadata": {},
   "source": [
    "### Step 3: Analysis\n",
    "\n",
    "The goal of this step is to visualize the final dataset as time series graph. This plot will show desktop traffic, mobile traffic, and all traffic for each API (6 total lines)."
   ]
  },
  {
   "cell_type": "markdown",
   "metadata": {},
   "source": [
    "- First, we will turn the 0's into NaN's so they don't show on our plot."
   ]
  },
  {
   "cell_type": "code",
   "execution_count": 28,
   "metadata": {},
   "outputs": [],
   "source": [
    "df_plot = df_final.replace(0, np.nan)"
   ]
  },
  {
   "cell_type": "markdown",
   "metadata": {},
   "source": [
    "- Next, we will create a list of year & month pairs to plot on our x-axis."
   ]
  },
  {
   "cell_type": "code",
   "execution_count": 29,
   "metadata": {},
   "outputs": [],
   "source": [
    "x_vals = pd.to_datetime(df_plot[['year', 'month']].assign(day = 1))"
   ]
  },
  {
   "cell_type": "markdown",
   "metadata": {},
   "source": [
    "- Finally, we will plot the results! (And save the output as `wiki_timeseries.png`)"
   ]
  },
  {
   "cell_type": "code",
   "execution_count": 30,
   "metadata": {},
   "outputs": [
    {
     "data": {
      "image/png": "[encoded data removed]",
      "text/plain": [
       "<Figure size 1296x648 with 1 Axes>"
      ]
     },
     "metadata": {
      "needs_background": "light"
     },
     "output_type": "display_data"
    }
   ],
   "source": [
    "fig, ax = plt.subplots(figsize=(18, 9))\n",
    "\n",
    "ax.plot(x_vals, df_plot['pagecount_all_views'], label = 'Pagecount - All', linestyle = '--', alpha = 1, color = 'blue')\n",
    "ax.plot(x_vals, df_plot['pagecount_desktop_views'], label = 'Pagecount - Desktop', linestyle = '--', color = 'red')\n",
    "ax.plot(x_vals, df_plot['pagecount_mobile_views'], label = 'Pagecount - Mobile', linestyle = '--', color = 'green')\n",
    "ax.plot(x_vals, df_plot['pageview_all_views'], label = 'Pageview - All', linestyle = '-', color = 'blue')\n",
    "ax.plot(x_vals, df_plot['pageview_desktop_views'], label = 'Pageview - Desktop', linestyle = '-', color = 'red')\n",
    "ax.plot(x_vals, df_plot['pageview_mobile_views'], label = 'Pageview - Mobile', linestyle = '-', color = 'green')\n",
    "\n",
    "\n",
    "ax.legend(loc = 'upper left', prop={'size': 12}) #bbox_to_anchor = (1, 1))\n",
    "ax.set_ylabel('Views (scale: 1E10)')\n",
    "ax.set_xlabel('Date')\n",
    "ax.xaxis.set_major_locator(dates.MonthLocator(interval = 12))\n",
    "ax.xaxis.set_major_formatter(dates.DateFormatter('%Y'))\n",
    "ax.set_xlim(['2007-01-01', '2022-01-01'])\n",
    "\n",
    "plt.title('English Wikipedia Page Views\\nJanuary 1, 2008 - September 30, 2021', fontsize = 14)\n",
    "plt.savefig('wiki_timeseries.png')\n",
    "plt.show()"
   ]
  },
  {
   "cell_type": "markdown",
   "metadata": {},
   "source": [
    "Note that until late 2014, we do not have any mobile views so the `Pagecount-All` and `Pagecount-Desktop` lines overlap exactly. Also note the scale on the y-axis (which shows views on the order of `1E10`) and the switch from dashed to solid lines representing the transition from the legacy _Pagecount_ API to the _Pageview_ API."
   ]
  }
 ],
 "metadata": {
  "kernelspec": {
   "display_name": "Python 3",
   "language": "python",
   "name": "python3"
  },
  "language_info": {
   "codemirror_mode": {
    "name": "ipython",
    "version": 3
   },
   "file_extension": ".py",
   "mimetype": "text/x-python",
   "name": "python",
   "nbconvert_exporter": "python",
   "pygments_lexer": "ipython3",
   "version": "3.7.1"
  }
 },
 "nbformat": 4,
 "nbformat_minor": 4
}
